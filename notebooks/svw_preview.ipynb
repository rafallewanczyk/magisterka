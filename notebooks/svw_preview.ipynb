{
 "cells": [
  {
   "cell_type": "code",
   "execution_count": 38,
   "outputs": [],
   "source": [
    "from pathlib import Path\n",
    "import pandas as pd\n",
    "\n",
    "SVW = Path('/home/rafa/SVW')\n",
    "\n",
    "bboxes = pd.read_csv(SVW / 'BoundingBoxes.csv')\n",
    "analyzed_file = 'volleyball/1567___555133a4b7a84ed7bd77bd424d225b23.mp4'\n",
    "analyzed_file1 = 'running/7748___81468d7faad248509876853582373f67.mp4'\n"
   ],
   "metadata": {
    "collapsed": false
   }
  },
  {
   "cell_type": "code",
   "execution_count": 39,
   "outputs": [
    {
     "data": {
      "text/plain": "Index(['filename', 'START FRAME', 'END FRAME', 'ACTION', 'BOX-start: x',\n       'BOX-start: y', 'BOX-start: w', 'BOX-start: h', 'BOX-end: x',\n       'BOX-end: y', 'BOX-end: w', 'BOX-end: h', 'CAMERA ANGLE', 'MID frame',\n       'BOX-mid: x', 'BOX-mid: y', 'BOX-mid: w', 'BOX-mid: h'],\n      dtype='object')"
     },
     "execution_count": 39,
     "metadata": {},
     "output_type": "execute_result"
    }
   ],
   "source": [
    "bboxes = bboxes.rename(columns={'FOLDER & FILE': 'filename'})\n",
    "bboxes.columns"
   ],
   "metadata": {
    "collapsed": false
   }
  },
  {
   "cell_type": "code",
   "execution_count": 45,
   "outputs": [
    {
     "data": {
      "text/plain": "                                            filename  Count\n0  swimming/321___87c6e054ec324b729072d636b8708ba...    3.0\n1  swimming/3238___747227da70b7405083afa520a924a7...    2.0\n2  swimming/9576___2e447efae6104ca199a54cee023240...    2.0\n3  swimming/8903___23cba1afe76b4d74a81ecbaf207f5a...    1.0\n4  swimming/8707___a6321da16ab444d5b4cbc1430028cc...    1.0",
      "text/html": "<div>\n<style scoped>\n    .dataframe tbody tr th:only-of-type {\n        vertical-align: middle;\n    }\n\n    .dataframe tbody tr th {\n        vertical-align: top;\n    }\n\n    .dataframe thead th {\n        text-align: right;\n    }\n</style>\n<table border=\"1\" class=\"dataframe\">\n  <thead>\n    <tr style=\"text-align: right;\">\n      <th></th>\n      <th>filename</th>\n      <th>Count</th>\n    </tr>\n  </thead>\n  <tbody>\n    <tr>\n      <th>0</th>\n      <td>swimming/321___87c6e054ec324b729072d636b8708ba...</td>\n      <td>3.0</td>\n    </tr>\n    <tr>\n      <th>1</th>\n      <td>swimming/3238___747227da70b7405083afa520a924a7...</td>\n      <td>2.0</td>\n    </tr>\n    <tr>\n      <th>2</th>\n      <td>swimming/9576___2e447efae6104ca199a54cee023240...</td>\n      <td>2.0</td>\n    </tr>\n    <tr>\n      <th>3</th>\n      <td>swimming/8903___23cba1afe76b4d74a81ecbaf207f5a...</td>\n      <td>1.0</td>\n    </tr>\n    <tr>\n      <th>4</th>\n      <td>swimming/8707___a6321da16ab444d5b4cbc1430028cc...</td>\n      <td>1.0</td>\n    </tr>\n  </tbody>\n</table>\n</div>"
     },
     "execution_count": 45,
     "metadata": {},
     "output_type": "execute_result"
    }
   ],
   "source": [
    "grouped = bboxes.groupby(by=['filename'])['filename'].count().reset_index(name='Count')\n",
    "sorted = grouped.sort_values(by=['Count'], ascending=False)\n",
    "filtered = sorted.where(sorted['filename'].str.contains('swimming')).dropna().reset_index(drop=True)\n",
    "filtered.head()"
   ],
   "metadata": {
    "collapsed": false
   }
  },
  {
   "cell_type": "code",
   "execution_count": 44,
   "outputs": [
    {
     "data": {
      "text/plain": "                                               filename  START FRAME  \\\n1458  running/745___5f0dc57a8b4645848eb9c47e0538fb0c...         64.0   \n1459  running/745___5f0dc57a8b4645848eb9c47e0538fb0c...        146.0   \n\n      END FRAME   ACTION  BOX-start: x  BOX-start: y  BOX-start: w  \\\n1458      115.0  running       0.44818       0.29721       0.12048   \n1459      206.0  running       0.33975       0.31149       0.24498   \n\n      BOX-start: h  BOX-end: x  BOX-end: y  BOX-end: w  BOX-end: h  \\\n1458       0.29273     0.33990     0.33609     0.20165     0.49749   \n1459       0.64971     0.45101     0.28487     0.08642     0.19753   \n\n     CAMERA ANGLE  MID frame  BOX-mid: x  BOX-mid: y  BOX-mid: w  BOX-mid: h  \n1458        Front        NaN         NaN         NaN         NaN         NaN  \n1459         Back        NaN         NaN         NaN         NaN         NaN  ",
      "text/html": "<div>\n<style scoped>\n    .dataframe tbody tr th:only-of-type {\n        vertical-align: middle;\n    }\n\n    .dataframe tbody tr th {\n        vertical-align: top;\n    }\n\n    .dataframe thead th {\n        text-align: right;\n    }\n</style>\n<table border=\"1\" class=\"dataframe\">\n  <thead>\n    <tr style=\"text-align: right;\">\n      <th></th>\n      <th>filename</th>\n      <th>START FRAME</th>\n      <th>END FRAME</th>\n      <th>ACTION</th>\n      <th>BOX-start: x</th>\n      <th>BOX-start: y</th>\n      <th>BOX-start: w</th>\n      <th>BOX-start: h</th>\n      <th>BOX-end: x</th>\n      <th>BOX-end: y</th>\n      <th>BOX-end: w</th>\n      <th>BOX-end: h</th>\n      <th>CAMERA ANGLE</th>\n      <th>MID frame</th>\n      <th>BOX-mid: x</th>\n      <th>BOX-mid: y</th>\n      <th>BOX-mid: w</th>\n      <th>BOX-mid: h</th>\n    </tr>\n  </thead>\n  <tbody>\n    <tr>\n      <th>1458</th>\n      <td>running/745___5f0dc57a8b4645848eb9c47e0538fb0c...</td>\n      <td>64.0</td>\n      <td>115.0</td>\n      <td>running</td>\n      <td>0.44818</td>\n      <td>0.29721</td>\n      <td>0.12048</td>\n      <td>0.29273</td>\n      <td>0.33990</td>\n      <td>0.33609</td>\n      <td>0.20165</td>\n      <td>0.49749</td>\n      <td>Front</td>\n      <td>NaN</td>\n      <td>NaN</td>\n      <td>NaN</td>\n      <td>NaN</td>\n      <td>NaN</td>\n    </tr>\n    <tr>\n      <th>1459</th>\n      <td>running/745___5f0dc57a8b4645848eb9c47e0538fb0c...</td>\n      <td>146.0</td>\n      <td>206.0</td>\n      <td>running</td>\n      <td>0.33975</td>\n      <td>0.31149</td>\n      <td>0.24498</td>\n      <td>0.64971</td>\n      <td>0.45101</td>\n      <td>0.28487</td>\n      <td>0.08642</td>\n      <td>0.19753</td>\n      <td>Back</td>\n      <td>NaN</td>\n      <td>NaN</td>\n      <td>NaN</td>\n      <td>NaN</td>\n      <td>NaN</td>\n    </tr>\n  </tbody>\n</table>\n</div>"
     },
     "execution_count": 44,
     "metadata": {},
     "output_type": "execute_result"
    }
   ],
   "source": [
    "analyzed_bboxes = bboxes.where(bboxes['filename'] == 'running/745___5f0dc57a8b4645848eb9c47e0538fb0c.mp4').dropna(subset=['filename'])\n",
    "analyzed_bboxes.head(100)"
   ],
   "metadata": {
    "collapsed": false
   }
  },
  {
   "cell_type": "code",
   "execution_count": 27,
   "outputs": [
    {
     "data": {
      "text/plain": "                                            filename  START FRAME  END FRAME  \\\n0  archery/10157___9040036fdf2c4e8296c38232cf30c6...           12      177.0   \n1  archery/1149___e5db4057ca864c4ca0a633894db9ee1...           44      188.0   \n2  archery/1149___e5db4057ca864c4ca0a633894db9ee1...          474      562.0   \n3  archery/1570___89a551f54cc84f25a2bae0f9e92d4f8...           70      239.0   \n4  archery/1570___89a551f54cc84f25a2bae0f9e92d4f8...          724      864.0   \n\n    ACTION  BOX-start: x  BOX-start: y  BOX-start: w  BOX-start: h  \\\n0  archery      0.187610      0.001587       0.69039       1.02490   \n1  archery      0.180500      0.052199       0.69395       0.78450   \n2  archery      0.109320      0.064853       0.76512       0.76552   \n3  archery      0.017762      0.151270       0.94498       0.82524   \n4  archery      0.056597      0.131850       0.94067       0.88350   \n\n   BOX-end: x  BOX-end: y  BOX-end: w  BOX-end: h CAMERA ANGLE  MID frame  \\\n0    0.159140   -0.011067     0.79359     1.02490        Mixed        NaN   \n1    0.095087    0.052199     0.84698     0.78450         Side        NaN   \n2    0.059500    0.090159     0.75801     0.76552         Side        NaN   \n3    0.112690    0.173920     0.86300     0.82524         Back        NaN   \n4    0.186050    0.109200     0.79827     0.88350         Back        NaN   \n\n   BOX-mid: x  BOX-mid: y  BOX-mid: w  BOX-mid: h  \n0         NaN         NaN         NaN         NaN  \n1         NaN         NaN         NaN         NaN  \n2         NaN         NaN         NaN         NaN  \n3         NaN         NaN         NaN         NaN  \n4         NaN         NaN         NaN         NaN  ",
      "text/html": "<div>\n<style scoped>\n    .dataframe tbody tr th:only-of-type {\n        vertical-align: middle;\n    }\n\n    .dataframe tbody tr th {\n        vertical-align: top;\n    }\n\n    .dataframe thead th {\n        text-align: right;\n    }\n</style>\n<table border=\"1\" class=\"dataframe\">\n  <thead>\n    <tr style=\"text-align: right;\">\n      <th></th>\n      <th>filename</th>\n      <th>START FRAME</th>\n      <th>END FRAME</th>\n      <th>ACTION</th>\n      <th>BOX-start: x</th>\n      <th>BOX-start: y</th>\n      <th>BOX-start: w</th>\n      <th>BOX-start: h</th>\n      <th>BOX-end: x</th>\n      <th>BOX-end: y</th>\n      <th>BOX-end: w</th>\n      <th>BOX-end: h</th>\n      <th>CAMERA ANGLE</th>\n      <th>MID frame</th>\n      <th>BOX-mid: x</th>\n      <th>BOX-mid: y</th>\n      <th>BOX-mid: w</th>\n      <th>BOX-mid: h</th>\n    </tr>\n  </thead>\n  <tbody>\n    <tr>\n      <th>0</th>\n      <td>archery/10157___9040036fdf2c4e8296c38232cf30c6...</td>\n      <td>12</td>\n      <td>177.0</td>\n      <td>archery</td>\n      <td>0.187610</td>\n      <td>0.001587</td>\n      <td>0.69039</td>\n      <td>1.02490</td>\n      <td>0.159140</td>\n      <td>-0.011067</td>\n      <td>0.79359</td>\n      <td>1.02490</td>\n      <td>Mixed</td>\n      <td>NaN</td>\n      <td>NaN</td>\n      <td>NaN</td>\n      <td>NaN</td>\n      <td>NaN</td>\n    </tr>\n    <tr>\n      <th>1</th>\n      <td>archery/1149___e5db4057ca864c4ca0a633894db9ee1...</td>\n      <td>44</td>\n      <td>188.0</td>\n      <td>archery</td>\n      <td>0.180500</td>\n      <td>0.052199</td>\n      <td>0.69395</td>\n      <td>0.78450</td>\n      <td>0.095087</td>\n      <td>0.052199</td>\n      <td>0.84698</td>\n      <td>0.78450</td>\n      <td>Side</td>\n      <td>NaN</td>\n      <td>NaN</td>\n      <td>NaN</td>\n      <td>NaN</td>\n      <td>NaN</td>\n    </tr>\n    <tr>\n      <th>2</th>\n      <td>archery/1149___e5db4057ca864c4ca0a633894db9ee1...</td>\n      <td>474</td>\n      <td>562.0</td>\n      <td>archery</td>\n      <td>0.109320</td>\n      <td>0.064853</td>\n      <td>0.76512</td>\n      <td>0.76552</td>\n      <td>0.059500</td>\n      <td>0.090159</td>\n      <td>0.75801</td>\n      <td>0.76552</td>\n      <td>Side</td>\n      <td>NaN</td>\n      <td>NaN</td>\n      <td>NaN</td>\n      <td>NaN</td>\n      <td>NaN</td>\n    </tr>\n    <tr>\n      <th>3</th>\n      <td>archery/1570___89a551f54cc84f25a2bae0f9e92d4f8...</td>\n      <td>70</td>\n      <td>239.0</td>\n      <td>archery</td>\n      <td>0.017762</td>\n      <td>0.151270</td>\n      <td>0.94498</td>\n      <td>0.82524</td>\n      <td>0.112690</td>\n      <td>0.173920</td>\n      <td>0.86300</td>\n      <td>0.82524</td>\n      <td>Back</td>\n      <td>NaN</td>\n      <td>NaN</td>\n      <td>NaN</td>\n      <td>NaN</td>\n      <td>NaN</td>\n    </tr>\n    <tr>\n      <th>4</th>\n      <td>archery/1570___89a551f54cc84f25a2bae0f9e92d4f8...</td>\n      <td>724</td>\n      <td>864.0</td>\n      <td>archery</td>\n      <td>0.056597</td>\n      <td>0.131850</td>\n      <td>0.94067</td>\n      <td>0.88350</td>\n      <td>0.186050</td>\n      <td>0.109200</td>\n      <td>0.79827</td>\n      <td>0.88350</td>\n      <td>Back</td>\n      <td>NaN</td>\n      <td>NaN</td>\n      <td>NaN</td>\n      <td>NaN</td>\n      <td>NaN</td>\n    </tr>\n  </tbody>\n</table>\n</div>"
     },
     "execution_count": 27,
     "metadata": {},
     "output_type": "execute_result"
    }
   ],
   "source": [
    "bboxes.head()"
   ],
   "metadata": {
    "collapsed": false
   }
  },
  {
   "cell_type": "code",
   "execution_count": null,
   "outputs": [],
   "source": [],
   "metadata": {
    "collapsed": false
   }
  }
 ],
 "metadata": {
  "kernelspec": {
   "display_name": "Python 3",
   "language": "python",
   "name": "python3"
  },
  "language_info": {
   "codemirror_mode": {
    "name": "ipython",
    "version": 2
   },
   "file_extension": ".py",
   "mimetype": "text/x-python",
   "name": "python",
   "nbconvert_exporter": "python",
   "pygments_lexer": "ipython2",
   "version": "2.7.6"
  }
 },
 "nbformat": 4,
 "nbformat_minor": 0
}
