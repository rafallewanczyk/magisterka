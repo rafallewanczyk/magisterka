{
 "cells": [
  {
   "cell_type": "code",
   "execution_count": 40,
   "outputs": [],
   "source": [
    "import matplotlib.pyplot as plt\n",
    "import numpy as np\n",
    "import mxnet as mx\n",
    "from mxnet import gluon, nd, image\n",
    "from mxnet.gluon.data.vision import transforms\n",
    "from gluoncv.data.transforms import video\n",
    "from gluoncv import utils\n",
    "from gluoncv.model_zoo import get_model"
   ],
   "metadata": {
    "collapsed": false
   }
  },
  {
   "cell_type": "code",
   "execution_count": 41,
   "outputs": [],
   "source": [
    "# from src.video import Video\n",
    "# from gluoncv.utils.filesystem import try_import_decord\n",
    "\n",
    "# decord = try_import_decord()\n",
    "# v = Video('../data/abseiling_k400.mp4', decord)\n",
    "\n"
   ],
   "metadata": {
    "collapsed": false
   }
  },
  {
   "cell_type": "code",
   "execution_count": 42,
   "outputs": [],
   "source": [
    "# v.preview()"
   ],
   "metadata": {
    "collapsed": false
   }
  },
  {
   "cell_type": "code",
   "execution_count": 43,
   "outputs": [],
   "source": [
    "from pathlib import Path\n",
    "\n",
    "TEST_VIDEO_URL = Path('volleyball/1567___555133a4b7a84ed7bd77bd424d225b23.mp4')\n",
    "\n",
    "import cv2\n",
    "\n",
    "\n",
    "cap = cv2.VideoCapture(TEST_VIDEO_URL.as_posix())\n",
    "\n",
    "frames = []\n",
    "while(cap.isOpened()):\n",
    "    ret, frame = cap.read()\n",
    "    frames.append(frame)\n",
    "    if ret:\n",
    "        cv2.imshow(\"frame\", frame)\n",
    "        cv2.waitKey(1)\n",
    "    else:\n",
    "        break\n",
    "\n",
    "cap.release()\n",
    "cv2.destroyAllWindows()\n",
    "\n",
    "# cap.release()\n",
    "# cv2.destroyAllWindows()\n",
    "#\n",
    "# frame_id_list = range(0, 64, 2)\n",
    "# video_data = vr.get_batch(frame_id_list).asnumpy()\n",
    "# clip_input = [frames[vid, :, :, :] for vid, _ in enumerate(frame_id_list)]\n",
    "clip_input = frames[:64]"
   ],
   "metadata": {
    "collapsed": false
   }
  },
  {
   "cell_type": "code",
   "execution_count": 44,
   "metadata": {
    "collapsed": true
   },
   "outputs": [],
   "source": [
    "import numpy as np\n",
    "from time import sleep\n",
    "import cv2 as cv\n",
    "\n",
    "for frame in clip_input:\n",
    "    cv.imshow('frame',frame)\n",
    "    if cv.waitKey(1) == ord('q'):\n",
    "        break\n",
    "    sleep(0.03)\n",
    "# cap.release()\n",
    "cv.destroyAllWindows()"
   ]
  },
  {
   "cell_type": "code",
   "execution_count": 45,
   "outputs": [
    {
     "name": "stdout",
     "output_type": "stream",
     "text": [
      "Video data is downloaded and preprocessed.\n"
     ]
    }
   ],
   "source": [
    "transform_fn = video.VideoGroupValTransform(size=224, mean=[0.485, 0.456, 0.406], std=[0.229, 0.224, 0.225])\n",
    "clip_input = transform_fn(clip_input)\n",
    "clip_input = np.stack(clip_input, axis=0)\n",
    "clip_input = clip_input.reshape((-1,) + (32, 3, 224, 224))\n",
    "clip_input = np.transpose(clip_input, (0, 2, 1, 3, 4))\n",
    "print('Video data is downloaded and preprocessed.')"
   ],
   "metadata": {
    "collapsed": false
   }
  },
  {
   "cell_type": "code",
   "execution_count": 46,
   "outputs": [
    {
     "name": "stdout",
     "output_type": "stream",
     "text": [
      "i3d_inceptionv1_kinetics400 model is successfully loaded.\n"
     ]
    }
   ],
   "source": [
    "model_name = 'i3d_inceptionv1_kinetics400'\n",
    "net = get_model(model_name, nclass=400, pretrained=True)\n",
    "print('%s model is successfully loaded.' % model_name)"
   ],
   "metadata": {
    "collapsed": false
   }
  },
  {
   "cell_type": "code",
   "execution_count": 47,
   "outputs": [
    {
     "name": "stdout",
     "output_type": "stream",
     "text": [
      "The input video clip is classified to be\n",
      "\t[feeding_fish], with probability 0.448.\n",
      "\t[swimming_breast_stroke], with probability 0.267.\n",
      "\t[catching_fish], with probability 0.092.\n",
      "\t[swimming_butterfly_stroke], with probability 0.079.\n",
      "\t[swimming_backstroke], with probability 0.048.\n",
      "\t[snorkeling], with probability 0.024.\n",
      "\t[canoeing_or_kayaking], with probability 0.016.\n",
      "\t[cleaning_pool], with probability 0.004.\n",
      "\t[kitesurfing], with probability 0.003.\n",
      "\t[surfing_water], with probability 0.003.\n",
      "\t[jumping_into_pool], with probability 0.002.\n",
      "\t[crossing_river], with probability 0.002.\n",
      "\t[scuba_diving], with probability 0.002.\n",
      "\t[jetskiing], with probability 0.002.\n",
      "\t[water_sliding], with probability 0.001.\n",
      "\t[windsurfing], with probability 0.001.\n",
      "\t[petting_animal_-not_cat-], with probability 0.001.\n",
      "\t[water_skiing], with probability 0.001.\n",
      "\t[diving_cliff], with probability 0.001.\n",
      "\t[sailing], with probability 0.000.\n",
      "\t[somersaulting], with probability 0.000.\n",
      "\t[parasailing], with probability 0.000.\n",
      "\t[springboard_diving], with probability 0.000.\n",
      "\t[swinging_on_something], with probability 0.000.\n",
      "\t[faceplanting], with probability 0.000.\n",
      "\t[bungee_jumping], with probability 0.000.\n",
      "\t[ice_fishing], with probability 0.000.\n",
      "\t[climbing_ladder], with probability 0.000.\n",
      "\t[feeding_birds], with probability 0.000.\n",
      "\t[riding_elephant], with probability 0.000.\n",
      "\t[jogging], with probability 0.000.\n",
      "\t[shredding_paper], with probability 0.000.\n",
      "\t[roller_skating], with probability 0.000.\n",
      "\t[catching_or_throwing_frisbee], with probability 0.000.\n",
      "\t[tossing_coin], with probability 0.000.\n",
      "\t[doing_aerobics], with probability 0.000.\n",
      "\t[tying_knot_-not_on_a_tie-], with probability 0.000.\n",
      "\t[climbing_a_rope], with probability 0.000.\n",
      "\t[drinking_beer], with probability 0.000.\n",
      "\t[holding_snake], with probability 0.000.\n",
      "\t[climbing_tree], with probability 0.000.\n",
      "\t[news_anchoring], with probability 0.000.\n",
      "\t[playing_cricket], with probability 0.000.\n",
      "\t[presenting_weather_forecast], with probability 0.000.\n",
      "\t[slacklining], with probability 0.000.\n",
      "\t[unboxing], with probability 0.000.\n",
      "\t[ski_jumping], with probability 0.000.\n",
      "\t[drop_kicking], with probability 0.000.\n",
      "\t[high_kick], with probability 0.000.\n",
      "\t[tobogganing], with probability 0.000.\n"
     ]
    }
   ],
   "source": [
    "pred = net(nd.array(clip_input))\n",
    "\n",
    "classes = net.classes\n",
    "topK = 50\n",
    "ind = nd.topk(pred, k=topK)[0].astype('int')\n",
    "print('The input video clip is classified to be')\n",
    "for i in range(topK):\n",
    "    print('\\t[%s], with probability %.3f.'%\n",
    "          (classes[ind[i].asscalar()], nd.softmax(pred)[0][ind[i]].asscalar()))"
   ],
   "metadata": {
    "collapsed": false
   }
  },
  {
   "cell_type": "code",
   "execution_count": 47,
   "outputs": [],
   "source": [],
   "metadata": {
    "collapsed": false
   }
  }
 ],
 "metadata": {
  "kernelspec": {
   "display_name": "Python 3",
   "language": "python",
   "name": "python3"
  },
  "language_info": {
   "codemirror_mode": {
    "name": "ipython",
    "version": 2
   },
   "file_extension": ".py",
   "mimetype": "text/x-python",
   "name": "python",
   "nbconvert_exporter": "python",
   "pygments_lexer": "ipython2",
   "version": "2.7.6"
  }
 },
 "nbformat": 4,
 "nbformat_minor": 0
}
